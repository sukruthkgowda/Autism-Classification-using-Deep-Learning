{
  "cells": [
    {
      "cell_type": "markdown",
      "metadata": {
        "id": "_zJejuRtdzrb"
      },
      "source": [
        "Connecting to Kaggle"
      ]
    },
    {
      "cell_type": "code",
      "execution_count": 26,
      "metadata": {
        "colab": {
          "base_uri": "https://localhost:8080/",
          "height": 648
        },
        "id": "EXUzp_TyFjye",
        "outputId": "ad008a40-6853-4c5a-9d8b-5b60621aaa36"
      },
      "outputs": [
        {
          "name": "stdout",
          "output_type": "stream",
          "text": [
            "Looking in indexes: https://pypi.org/simple, https://us-python.pkg.dev/colab-wheels/public/simple/\n",
            "Collecting kaggle\n",
            "  Using cached kaggle-1.5.12-py3-none-any.whl\n",
            "Installing collected packages: kaggle\n",
            "  Attempting uninstall: kaggle\n",
            "    Found existing installation: kaggle 1.5.12\n",
            "    Uninstalling kaggle-1.5.12:\n",
            "      Successfully uninstalled kaggle-1.5.12\n",
            "Successfully installed kaggle-1.5.12\n"
          ]
        },
        {
          "data": {
            "text/html": [
              "\n",
              "     <input type=\"file\" id=\"files-56a6962f-f96c-455d-ab71-fec05d4bb7d3\" name=\"files[]\" multiple disabled\n",
              "        style=\"border:none\" />\n",
              "     <output id=\"result-56a6962f-f96c-455d-ab71-fec05d4bb7d3\">\n",
              "      Upload widget is only available when the cell has been executed in the\n",
              "      current browser session. Please rerun this cell to enable.\n",
              "      </output>\n",
              "      <script>// Copyright 2017 Google LLC\n",
              "//\n",
              "// Licensed under the Apache License, Version 2.0 (the \"License\");\n",
              "// you may not use this file except in compliance with the License.\n",
              "// You may obtain a copy of the License at\n",
              "//\n",
              "//      http://www.apache.org/licenses/LICENSE-2.0\n",
              "//\n",
              "// Unless required by applicable law or agreed to in writing, software\n",
              "// distributed under the License is distributed on an \"AS IS\" BASIS,\n",
              "// WITHOUT WARRANTIES OR CONDITIONS OF ANY KIND, either express or implied.\n",
              "// See the License for the specific language governing permissions and\n",
              "// limitations under the License.\n",
              "\n",
              "/**\n",
              " * @fileoverview Helpers for google.colab Python module.\n",
              " */\n",
              "(function(scope) {\n",
              "function span(text, styleAttributes = {}) {\n",
              "  const element = document.createElement('span');\n",
              "  element.textContent = text;\n",
              "  for (const key of Object.keys(styleAttributes)) {\n",
              "    element.style[key] = styleAttributes[key];\n",
              "  }\n",
              "  return element;\n",
              "}\n",
              "\n",
              "// Max number of bytes which will be uploaded at a time.\n",
              "const MAX_PAYLOAD_SIZE = 100 * 1024;\n",
              "\n",
              "function _uploadFiles(inputId, outputId) {\n",
              "  const steps = uploadFilesStep(inputId, outputId);\n",
              "  const outputElement = document.getElementById(outputId);\n",
              "  // Cache steps on the outputElement to make it available for the next call\n",
              "  // to uploadFilesContinue from Python.\n",
              "  outputElement.steps = steps;\n",
              "\n",
              "  return _uploadFilesContinue(outputId);\n",
              "}\n",
              "\n",
              "// This is roughly an async generator (not supported in the browser yet),\n",
              "// where there are multiple asynchronous steps and the Python side is going\n",
              "// to poll for completion of each step.\n",
              "// This uses a Promise to block the python side on completion of each step,\n",
              "// then passes the result of the previous step as the input to the next step.\n",
              "function _uploadFilesContinue(outputId) {\n",
              "  const outputElement = document.getElementById(outputId);\n",
              "  const steps = outputElement.steps;\n",
              "\n",
              "  const next = steps.next(outputElement.lastPromiseValue);\n",
              "  return Promise.resolve(next.value.promise).then((value) => {\n",
              "    // Cache the last promise value to make it available to the next\n",
              "    // step of the generator.\n",
              "    outputElement.lastPromiseValue = value;\n",
              "    return next.value.response;\n",
              "  });\n",
              "}\n",
              "\n",
              "/**\n",
              " * Generator function which is called between each async step of the upload\n",
              " * process.\n",
              " * @param {string} inputId Element ID of the input file picker element.\n",
              " * @param {string} outputId Element ID of the output display.\n",
              " * @return {!Iterable<!Object>} Iterable of next steps.\n",
              " */\n",
              "function* uploadFilesStep(inputId, outputId) {\n",
              "  const inputElement = document.getElementById(inputId);\n",
              "  inputElement.disabled = false;\n",
              "\n",
              "  const outputElement = document.getElementById(outputId);\n",
              "  outputElement.innerHTML = '';\n",
              "\n",
              "  const pickedPromise = new Promise((resolve) => {\n",
              "    inputElement.addEventListener('change', (e) => {\n",
              "      resolve(e.target.files);\n",
              "    });\n",
              "  });\n",
              "\n",
              "  const cancel = document.createElement('button');\n",
              "  inputElement.parentElement.appendChild(cancel);\n",
              "  cancel.textContent = 'Cancel upload';\n",
              "  const cancelPromise = new Promise((resolve) => {\n",
              "    cancel.onclick = () => {\n",
              "      resolve(null);\n",
              "    };\n",
              "  });\n",
              "\n",
              "  // Wait for the user to pick the files.\n",
              "  const files = yield {\n",
              "    promise: Promise.race([pickedPromise, cancelPromise]),\n",
              "    response: {\n",
              "      action: 'starting',\n",
              "    }\n",
              "  };\n",
              "\n",
              "  cancel.remove();\n",
              "\n",
              "  // Disable the input element since further picks are not allowed.\n",
              "  inputElement.disabled = true;\n",
              "\n",
              "  if (!files) {\n",
              "    return {\n",
              "      response: {\n",
              "        action: 'complete',\n",
              "      }\n",
              "    };\n",
              "  }\n",
              "\n",
              "  for (const file of files) {\n",
              "    const li = document.createElement('li');\n",
              "    li.append(span(file.name, {fontWeight: 'bold'}));\n",
              "    li.append(span(\n",
              "        `(${file.type || 'n/a'}) - ${file.size} bytes, ` +\n",
              "        `last modified: ${\n",
              "            file.lastModifiedDate ? file.lastModifiedDate.toLocaleDateString() :\n",
              "                                    'n/a'} - `));\n",
              "    const percent = span('0% done');\n",
              "    li.appendChild(percent);\n",
              "\n",
              "    outputElement.appendChild(li);\n",
              "\n",
              "    const fileDataPromise = new Promise((resolve) => {\n",
              "      const reader = new FileReader();\n",
              "      reader.onload = (e) => {\n",
              "        resolve(e.target.result);\n",
              "      };\n",
              "      reader.readAsArrayBuffer(file);\n",
              "    });\n",
              "    // Wait for the data to be ready.\n",
              "    let fileData = yield {\n",
              "      promise: fileDataPromise,\n",
              "      response: {\n",
              "        action: 'continue',\n",
              "      }\n",
              "    };\n",
              "\n",
              "    // Use a chunked sending to avoid message size limits. See b/62115660.\n",
              "    let position = 0;\n",
              "    do {\n",
              "      const length = Math.min(fileData.byteLength - position, MAX_PAYLOAD_SIZE);\n",
              "      const chunk = new Uint8Array(fileData, position, length);\n",
              "      position += length;\n",
              "\n",
              "      const base64 = btoa(String.fromCharCode.apply(null, chunk));\n",
              "      yield {\n",
              "        response: {\n",
              "          action: 'append',\n",
              "          file: file.name,\n",
              "          data: base64,\n",
              "        },\n",
              "      };\n",
              "\n",
              "      let percentDone = fileData.byteLength === 0 ?\n",
              "          100 :\n",
              "          Math.round((position / fileData.byteLength) * 100);\n",
              "      percent.textContent = `${percentDone}% done`;\n",
              "\n",
              "    } while (position < fileData.byteLength);\n",
              "  }\n",
              "\n",
              "  // All done.\n",
              "  yield {\n",
              "    response: {\n",
              "      action: 'complete',\n",
              "    }\n",
              "  };\n",
              "}\n",
              "\n",
              "scope.google = scope.google || {};\n",
              "scope.google.colab = scope.google.colab || {};\n",
              "scope.google.colab._files = {\n",
              "  _uploadFiles,\n",
              "  _uploadFilesContinue,\n",
              "};\n",
              "})(self);\n",
              "</script> "
            ],
            "text/plain": [
              "<IPython.core.display.HTML object>"
            ]
          },
          "metadata": {},
          "output_type": "display_data"
        },
        {
          "name": "stdout",
          "output_type": "stream",
          "text": [
            "Saving kaggle.json to kaggle (1).json\n",
            "mkdir: cannot create directory ‘/root/.kaggle’: File exists\n",
            "ref                                                             title                                                size  lastUpdated          downloadCount  voteCount  usabilityRating  \n",
            "--------------------------------------------------------------  --------------------------------------------------  -----  -------------------  -------------  ---------  ---------------  \n",
            "meirnizri/covid19-dataset                                       COVID-19 Dataset                                      5MB  2022-11-13 15:47:17           2747         80  1.0              \n",
            "akshaydattatraykhare/diabetes-dataset                           Diabetes Dataset                                      9KB  2022-10-06 08:55:25          19128        535  1.0              \n",
            "thedevastator/jobs-dataset-from-glassdoor                       Salary Prediction                                     3MB  2022-11-16 13:52:31           1959         55  1.0              \n",
            "fuarresvij/gdp-growth-around-the-globe                          GDP Growth around the Globe                         122KB  2022-11-22 00:36:28            778         26  0.9411765        \n",
            "akshaydattatraykhare/data-for-admission-in-the-university       Data for Admission in the University                  4KB  2022-10-27 11:05:45           5723        130  1.0              \n",
            "arthurboari/taylor-swift-spotify-data                           Taylor Swift Spotify Data                            96KB  2022-11-21 13:46:01            539         23  0.9705882        \n",
            "dsfelix/us-stores-sales                                         US Stores Sales                                      84KB  2022-11-08 00:11:06           1297         24  1.0              \n",
            "thedevastator/fashion-products-on-amazon-ratings-prices-and-pa  Fashion Products on Amazon: Ratings, Prices, etc      8MB  2022-11-18 14:28:57            844         27  1.0              \n",
            "whenamancodes/predict-diabities                                 Predict Diabetes                                      9KB  2022-11-09 12:18:49           2913         62  1.0              \n",
            "prosperchuks/health-dataset                                     Diabetes, Hypertension and Stroke Prediction        597KB  2022-11-23 10:04:03            821         29  1.0              \n",
            "piterfm/fifa-football-world-cup                                 FIFA Football World Cup                              71KB  2022-11-28 09:44:12           1265         46  1.0              \n",
            "thedevastator/cancer-patients-and-air-pollution-a-new-link       Lung Cancer Prediction                               7KB  2022-11-14 13:40:40           1585         46  1.0              \n",
            "dbarteaux99/stable-diffusion-1-5                                Stable Diffusion 1.5 (normal and EMAonly) with vae    7GB  2022-10-23 15:40:29             61         17  0.9375           \n",
            "whenamancodes/credit-card-customers-prediction                  Credit Card Customers Prediction                    379KB  2022-10-30 13:03:27           3578         77  1.0              \n",
            "mukhazarahmad/worldwide-cancer-data                             Worldwide cancer data                                 2KB  2022-11-13 03:06:15            585         23  1.0              \n",
            "shilongzhuang/-women-clothing-ecommerce-sales-data              🏷️👚 Women Clothing Ecommerce Sales Data               5KB  2022-11-21 01:27:59            482         26  1.0              \n",
            "swaptr/layoffs-2022                                             Layoffs 2022                                         30KB  2022-11-25 15:08:47           1833         46  1.0              \n",
            "thedevastator/empowering-the-next-wave-of-entrepreneurs         US Startup companies over time (Timeseries)         974KB  2022-11-16 16:11:01            666         27  1.0              \n",
            "zvr842/global-pollution-by-counties                             Global pollution by counties                         15KB  2022-11-14 10:57:31           1302         29  0.9705882        \n",
            "dheerajmukati/india-gdp-19602022                                India GDP 1960-2022                                   1KB  2022-11-11 12:08:46           1146         33  1.0              \n"
          ]
        }
      ],
      "source": [
        "! pip install --upgrade --force-reinstall --no-deps kaggle\n",
        "from google.colab import files\n",
        "files.upload()\n",
        "! mkdir ~/.kaggle\n",
        "! cp kaggle.json ~/.kaggle/\n",
        "! chmod 600 ~/.kaggle/kaggle.json\n",
        "! kaggle datasets list"
      ]
    },
    {
      "cell_type": "markdown",
      "metadata": {
        "id": "6N2JmaVOd5cR"
      },
      "source": [
        "downloading the dataset"
      ]
    },
    {
      "cell_type": "code",
      "execution_count": 2,
      "metadata": {
        "colab": {
          "base_uri": "https://localhost:8080/"
        },
        "id": "jEEEwav6GV3v",
        "outputId": "0cd377c2-cc18-4ce7-d920-67eeb71148ae"
      },
      "outputs": [
        {
          "name": "stdout",
          "output_type": "stream",
          "text": [
            "Downloading autism-image-data.zip to /content\n",
            " 94% 216M/229M [00:02<00:00, 196MB/s]\n",
            "100% 229M/229M [00:02<00:00, 86.7MB/s]\n"
          ]
        }
      ],
      "source": [
        "!kaggle datasets download -d cihan063/autism-image-data"
      ]
    },
    {
      "cell_type": "code",
      "execution_count": null,
      "metadata": {
        "id": "H-aXEEPOGZUS"
      },
      "outputs": [],
      "source": [
        "!unzip autism-image-data"
      ]
    },
    {
      "cell_type": "markdown",
      "metadata": {
        "id": "6ndjUYAVeAn0"
      },
      "source": [
        "Importing the required Libraries"
      ]
    },
    {
      "cell_type": "code",
      "execution_count": 4,
      "metadata": {
        "id": "ikX-uvFuGeqE"
      },
      "outputs": [],
      "source": [
        "import pandas as pd\n",
        "import numpy as np\n",
        "import cv2\n",
        "import matplotlib.pyplot as plt\n",
        "import matplotlib.image as mpimg\n",
        "\n",
        "import tensorflow as tf\n",
        "from tensorflow import keras\n",
        "from tensorflow.keras import layers\n",
        "from tensorflow.keras import models, Sequential\n",
        "from tensorflow.keras import optimizers\n",
        "\n",
        "from keras.layers.core import Dense, Dropout, Flatten\n",
        "from keras.layers.convolutional import Conv2D, MaxPooling2D\n",
        "\n",
        "from keras.preprocessing.image import ImageDataGenerator\n",
        "from tensorflow.keras.utils import load_img,save_img\n"
      ]
    },
    {
      "cell_type": "code",
      "execution_count": 5,
      "metadata": {
        "id": "jjE358G9Glyy"
      },
      "outputs": [],
      "source": [
        "# Creating file path for our train data and test data\n",
        "train_dir = \"/content/AutismDataset/train\"\n",
        "test_dir = \"/content/AutismDataset/test\""
      ]
    },
    {
      "cell_type": "code",
      "execution_count": 6,
      "metadata": {
        "id": "cDSbmwbmGmuV"
      },
      "outputs": [],
      "source": [
        "#Creating new Directories\n",
        "import os.path\n",
        "from os import path\n",
        "\n",
        "if path.exists('/content/Train') == False:\n",
        "  os.mkdir('/content/Train')\n",
        "\n",
        "\n",
        "if path.exists('/content/Train/Autistic') == False:\n",
        "  os.mkdir('/content/Train/Autistic')\n",
        "\n",
        "if path.exists('/content/Train/Non_Autistic') == False:\n",
        "  os.mkdir('/content/Train/Non_Autistic')"
      ]
    },
    {
      "cell_type": "code",
      "execution_count": 7,
      "metadata": {
        "id": "qew8y4nAG4RL"
      },
      "outputs": [],
      "source": [
        "#adding data to newly created directories\n",
        "train_non_autistic = []\n",
        "train_autistic = []\n",
        "for i in os.listdir(train_dir):\n",
        "    if 'Non_Autistic' in (\"/content/AutismDataset/train/{}\".format(i)):\n",
        "        train_non_autistic.append((\"/content/AutismDataset/train/{}\".format(i)))\n",
        "        non_autistic = load_img('/content/AutismDataset/train/{}'.format(i))\n",
        "        save_img(\"/content/Train/Non_Autistic/{}\".format(i),non_autistic)\n",
        "    else:\n",
        "        train_autistic.append((\"/content/AutismDataset/train/{}\".format(i)))\n",
        "        autistic = load_img('/content/AutismDataset/train/{}'.format(i))\n",
        "        save_img(\"/content/Train/Autistic/{}\".format(i),autistic)\n",
        "        \n"
      ]
    },
    {
      "cell_type": "code",
      "execution_count": 8,
      "metadata": {
        "id": "BfBqxafbG5ty"
      },
      "outputs": [],
      "source": [
        "#New training data path\n",
        "new_training = \"/content/Train\""
      ]
    },
    {
      "cell_type": "markdown",
      "metadata": {
        "id": "Mjoqj8AiHZMF"
      },
      "source": [
        "Data Argumentation:"
      ]
    },
    {
      "cell_type": "code",
      "execution_count": 9,
      "metadata": {
        "colab": {
          "base_uri": "https://localhost:8080/"
        },
        "id": "z7DAT_xZHYUa",
        "outputId": "d14b4443-d00b-416e-b422-393f1d226a31"
      },
      "outputs": [
        {
          "name": "stdout",
          "output_type": "stream",
          "text": [
            "Found 2540 images belonging to 2 classes.\n",
            "Found 100 images belonging to 2 classes.\n"
          ]
        }
      ],
      "source": [
        "train_datagen = ImageDataGenerator(rescale = 1./255,\n",
        "                                  rotation_range = 10,\n",
        "                                  # width_shift_range = 0.2,\n",
        "                                  # height_shift_range = 0.2,\n",
        "                                  shear_range = 0.1,\n",
        "                                  #horizontal_flip = True,\n",
        "                                  #vertical_flip = True,\n",
        "                                  zoom_range = 0.1)\n",
        "\n",
        "\n",
        "val_datagen = ImageDataGenerator(rescale = 1./255,\n",
        "                                 rotation_range=15,\n",
        "                                  zoom_range = 0.1,\n",
        "                                 fill_mode='nearest')\n",
        "\n",
        "train_generator = train_datagen.flow_from_directory(\n",
        "    new_training,\n",
        "    target_size = (224,224),\n",
        "    #color_mode = 'rgb',\n",
        "    batch_size = 32,\n",
        "    shuffle = True,\n",
        "    class_mode= 'binary',\n",
        "    seed = 123,\n",
        "    )\n",
        "\n",
        "validation_generator = val_datagen.flow_from_directory(\n",
        "    \"/content/AutismDataset/valid\",\n",
        "    target_size = (224,224),\n",
        "    #color_mode = 'rgb',\n",
        "    batch_size = 48,\n",
        "    shuffle = True,\n",
        "    class_mode= 'binary',\n",
        "    seed = 123,\n",
        "    )"
      ]
    },
    {
      "cell_type": "markdown",
      "metadata": {
        "id": "59QqtOEgKsIV"
      },
      "source": [
        "Model:"
      ]
    },
    {
      "cell_type": "code",
      "execution_count": 27,
      "metadata": {
        "id": "-qCy0_ruKs8_"
      },
      "outputs": [],
      "source": [
        "from keras.optimizers import Adam\n",
        "classifier = Sequential()\n",
        "\n",
        "# Convolution layers\n",
        "classifier.add(Conv2D(32, (3, 3), input_shape = (224, 224, 3), activation = 'relu'))\n",
        "classifier.add(Conv2D(64, (3, 3), activation = 'relu'))\n",
        "classifier.add(MaxPooling2D(pool_size = (2, 2)))\n",
        "classifier.add(layers.Dropout(0.25))\n",
        "\n",
        "\n",
        "classifier.add(Conv2D(64, (3, 3),padding=\"same\",activation = 'relu'))\n",
        "classifier.add(MaxPooling2D(pool_size = (2, 2)))\n",
        "classifier.add(layers.Dropout(0.25))\n",
        "\n",
        "\n",
        "classifier.add(layers.BatchNormalization())\n",
        "classifier.add(layers.ZeroPadding2D(padding=(3, 3)))\n",
        "classifier.add(layers.Conv2D(filters = 128, kernel_size = (11,11), strides = (2,2), padding = \"valid\"))\n",
        "#classifier.add(layers.Dense(128, activation = 'relu'))\n",
        "classifier.add(MaxPooling2D(pool_size=(2, 2)))\n",
        "classifier.add(layers.Dropout(0.5))\n",
        "classifier.add(layers.BatchNormalization())\n",
        "#classifier.add(layers.Dense(256,activation = 'relu'))\n",
        "\n",
        "\n",
        "# Flattening\n",
        "classifier.add(Flatten())\n",
        "\n",
        "# Full connection\n",
        "classifier.add(Dense(units = 128, activation = 'relu'))\n",
        "classifier.add(Dense(units = 64, activation = 'relu'))\n",
        "classifier.add(Dense(units = 32, activation = 'relu'))\n",
        "classifier.add(Dense(units = 1, activation = 'sigmoid'))\n",
        "\n"
      ]
    },
    {
      "cell_type": "code",
      "execution_count": 28,
      "metadata": {
        "id": "3tHjIXVvK4XO"
      },
      "outputs": [],
      "source": [
        "# Compiling the CNN\n",
        "classifier.compile(optimizer = Adam(learning_rate = 0.001), loss = 'binary_crossentropy', metrics = ['accuracy'])"
      ]
    },
    {
      "cell_type": "markdown",
      "metadata": {
        "id": "1huSNOfgeX8p"
      },
      "source": [
        "Summary of the Model"
      ]
    },
    {
      "cell_type": "code",
      "execution_count": 29,
      "metadata": {
        "colab": {
          "base_uri": "https://localhost:8080/"
        },
        "id": "yK1OKc-jK7JV",
        "outputId": "70c9e6d1-2f4c-4e9a-b3f0-42740dfe442d"
      },
      "outputs": [
        {
          "name": "stdout",
          "output_type": "stream",
          "text": [
            "Model: \"sequential_2\"\n",
            "_________________________________________________________________\n",
            " Layer (type)                Output Shape              Param #   \n",
            "=================================================================\n",
            " conv2d_8 (Conv2D)           (None, 222, 222, 32)      896       \n",
            "                                                                 \n",
            " conv2d_9 (Conv2D)           (None, 220, 220, 64)      18496     \n",
            "                                                                 \n",
            " max_pooling2d_6 (MaxPooling  (None, 110, 110, 64)     0         \n",
            " 2D)                                                             \n",
            "                                                                 \n",
            " dropout_6 (Dropout)         (None, 110, 110, 64)      0         \n",
            "                                                                 \n",
            " conv2d_10 (Conv2D)          (None, 110, 110, 64)      36928     \n",
            "                                                                 \n",
            " max_pooling2d_7 (MaxPooling  (None, 55, 55, 64)       0         \n",
            " 2D)                                                             \n",
            "                                                                 \n",
            " dropout_7 (Dropout)         (None, 55, 55, 64)        0         \n",
            "                                                                 \n",
            " batch_normalization_4 (Batc  (None, 55, 55, 64)       256       \n",
            " hNormalization)                                                 \n",
            "                                                                 \n",
            " zero_padding2d_2 (ZeroPaddi  (None, 61, 61, 64)       0         \n",
            " ng2D)                                                           \n",
            "                                                                 \n",
            " conv2d_11 (Conv2D)          (None, 26, 26, 128)       991360    \n",
            "                                                                 \n",
            " max_pooling2d_8 (MaxPooling  (None, 13, 13, 128)      0         \n",
            " 2D)                                                             \n",
            "                                                                 \n",
            " dropout_8 (Dropout)         (None, 13, 13, 128)       0         \n",
            "                                                                 \n",
            " batch_normalization_5 (Batc  (None, 13, 13, 128)      512       \n",
            " hNormalization)                                                 \n",
            "                                                                 \n",
            " flatten_2 (Flatten)         (None, 21632)             0         \n",
            "                                                                 \n",
            " dense_8 (Dense)             (None, 128)               2769024   \n",
            "                                                                 \n",
            " dense_9 (Dense)             (None, 64)                8256      \n",
            "                                                                 \n",
            " dense_10 (Dense)            (None, 32)                2080      \n",
            "                                                                 \n",
            " dense_11 (Dense)            (None, 1)                 33        \n",
            "                                                                 \n",
            "=================================================================\n",
            "Total params: 3,827,841\n",
            "Trainable params: 3,827,457\n",
            "Non-trainable params: 384\n",
            "_________________________________________________________________\n"
          ]
        }
      ],
      "source": [
        "classifier.summary()"
      ]
    },
    {
      "cell_type": "markdown",
      "metadata": {
        "id": "-ZwKxztbeZ3R"
      },
      "source": [
        "Model Training:"
      ]
    },
    {
      "cell_type": "code",
      "execution_count": 13,
      "metadata": {
        "colab": {
          "base_uri": "https://localhost:8080/"
        },
        "id": "_yO8mv4IK-QG",
        "outputId": "d7970bf6-fba6-488d-8277-57a9463f8fa1"
      },
      "outputs": [
        {
          "name": "stdout",
          "output_type": "stream",
          "text": [
            "Epoch 1/50\n",
            "80/80 [==============================] - 44s 382ms/step - loss: 0.6875 - accuracy: 0.6260 - val_loss: 0.6168 - val_accuracy: 0.7200\n",
            "Epoch 2/50\n",
            "80/80 [==============================] - 29s 350ms/step - loss: 0.6159 - accuracy: 0.6728 - val_loss: 0.7438 - val_accuracy: 0.5300\n",
            "Epoch 3/50\n",
            "80/80 [==============================] - 29s 358ms/step - loss: 0.5841 - accuracy: 0.6941 - val_loss: 1.3429 - val_accuracy: 0.5300\n",
            "Epoch 4/50\n",
            "80/80 [==============================] - 30s 349ms/step - loss: 0.5493 - accuracy: 0.7091 - val_loss: 1.1662 - val_accuracy: 0.5000\n",
            "Epoch 5/50\n",
            "80/80 [==============================] - 31s 380ms/step - loss: 0.5372 - accuracy: 0.7252 - val_loss: 0.5631 - val_accuracy: 0.6800\n",
            "Epoch 6/50\n",
            "80/80 [==============================] - 29s 347ms/step - loss: 0.4822 - accuracy: 0.7626 - val_loss: 1.4600 - val_accuracy: 0.5700\n",
            "Epoch 7/50\n",
            "80/80 [==============================] - 29s 347ms/step - loss: 0.4977 - accuracy: 0.7500 - val_loss: 0.8371 - val_accuracy: 0.5800\n",
            "Epoch 8/50\n",
            "80/80 [==============================] - 29s 349ms/step - loss: 0.4772 - accuracy: 0.7697 - val_loss: 0.6099 - val_accuracy: 0.6900\n",
            "Epoch 9/50\n",
            "80/80 [==============================] - 29s 353ms/step - loss: 0.4397 - accuracy: 0.7846 - val_loss: 0.5570 - val_accuracy: 0.7200\n",
            "Epoch 10/50\n",
            "80/80 [==============================] - 29s 351ms/step - loss: 0.4318 - accuracy: 0.7894 - val_loss: 0.6161 - val_accuracy: 0.7200\n",
            "Epoch 11/50\n",
            "80/80 [==============================] - 30s 364ms/step - loss: 0.4057 - accuracy: 0.8094 - val_loss: 0.6256 - val_accuracy: 0.7100\n",
            "Epoch 12/50\n",
            "80/80 [==============================] - 30s 351ms/step - loss: 0.3880 - accuracy: 0.8240 - val_loss: 0.7951 - val_accuracy: 0.6900\n",
            "Epoch 13/50\n",
            "80/80 [==============================] - 31s 379ms/step - loss: 0.3484 - accuracy: 0.8453 - val_loss: 0.7848 - val_accuracy: 0.6800\n",
            "Epoch 14/50\n",
            "80/80 [==============================] - 29s 349ms/step - loss: 0.3587 - accuracy: 0.8406 - val_loss: 0.8323 - val_accuracy: 0.6900\n",
            "Epoch 15/50\n",
            "80/80 [==============================] - 29s 347ms/step - loss: 0.3157 - accuracy: 0.8567 - val_loss: 0.6568 - val_accuracy: 0.6900\n",
            "Epoch 16/50\n",
            "80/80 [==============================] - 28s 344ms/step - loss: 0.2847 - accuracy: 0.8713 - val_loss: 1.9603 - val_accuracy: 0.5800\n",
            "Epoch 17/50\n",
            "80/80 [==============================] - 30s 360ms/step - loss: 0.2901 - accuracy: 0.8744 - val_loss: 0.6771 - val_accuracy: 0.6900\n",
            "Epoch 18/50\n",
            "80/80 [==============================] - 29s 347ms/step - loss: 0.2656 - accuracy: 0.8917 - val_loss: 0.6497 - val_accuracy: 0.7600\n",
            "Epoch 19/50\n",
            "80/80 [==============================] - 30s 356ms/step - loss: 0.2424 - accuracy: 0.8937 - val_loss: 1.1995 - val_accuracy: 0.7100\n",
            "Epoch 20/50\n",
            "80/80 [==============================] - 28s 340ms/step - loss: 0.2532 - accuracy: 0.8972 - val_loss: 1.1016 - val_accuracy: 0.6800\n",
            "Epoch 21/50\n",
            "80/80 [==============================] - 29s 349ms/step - loss: 0.1998 - accuracy: 0.9185 - val_loss: 0.5404 - val_accuracy: 0.7400\n",
            "Epoch 22/50\n",
            "80/80 [==============================] - 29s 356ms/step - loss: 0.2017 - accuracy: 0.9142 - val_loss: 0.9557 - val_accuracy: 0.6800\n",
            "Epoch 23/50\n",
            "80/80 [==============================] - 29s 347ms/step - loss: 0.2076 - accuracy: 0.9150 - val_loss: 0.5525 - val_accuracy: 0.8200\n",
            "Epoch 24/50\n",
            "80/80 [==============================] - 29s 342ms/step - loss: 0.2097 - accuracy: 0.9071 - val_loss: 0.9705 - val_accuracy: 0.6800\n",
            "Epoch 25/50\n",
            "80/80 [==============================] - 30s 368ms/step - loss: 0.2059 - accuracy: 0.9134 - val_loss: 1.0980 - val_accuracy: 0.6800\n",
            "Epoch 26/50\n",
            "80/80 [==============================] - 29s 342ms/step - loss: 0.1788 - accuracy: 0.9256 - val_loss: 0.6557 - val_accuracy: 0.7800\n",
            "Epoch 27/50\n",
            "80/80 [==============================] - 29s 344ms/step - loss: 0.1696 - accuracy: 0.9272 - val_loss: 1.1460 - val_accuracy: 0.6500\n",
            "Epoch 28/50\n",
            "80/80 [==============================] - 29s 344ms/step - loss: 0.1697 - accuracy: 0.9346 - val_loss: 1.1333 - val_accuracy: 0.7400\n",
            "Epoch 29/50\n",
            "80/80 [==============================] - 30s 359ms/step - loss: 0.1361 - accuracy: 0.9453 - val_loss: 1.1014 - val_accuracy: 0.7600\n",
            "Epoch 30/50\n",
            "80/80 [==============================] - 29s 342ms/step - loss: 0.1263 - accuracy: 0.9504 - val_loss: 0.9757 - val_accuracy: 0.7600\n",
            "Epoch 31/50\n",
            "80/80 [==============================] - 29s 352ms/step - loss: 0.1084 - accuracy: 0.9618 - val_loss: 0.6245 - val_accuracy: 0.7700\n",
            "Epoch 32/50\n",
            "80/80 [==============================] - 29s 344ms/step - loss: 0.1324 - accuracy: 0.9524 - val_loss: 0.9942 - val_accuracy: 0.7200\n",
            "Epoch 33/50\n",
            "80/80 [==============================] - 29s 346ms/step - loss: 0.1300 - accuracy: 0.9528 - val_loss: 0.8218 - val_accuracy: 0.7500\n",
            "Epoch 34/50\n",
            "80/80 [==============================] - 30s 357ms/step - loss: 0.1377 - accuracy: 0.9469 - val_loss: 0.9255 - val_accuracy: 0.7100\n",
            "Epoch 35/50\n",
            "80/80 [==============================] - 30s 365ms/step - loss: 0.1123 - accuracy: 0.9559 - val_loss: 1.1259 - val_accuracy: 0.7700\n",
            "Epoch 36/50\n",
            "80/80 [==============================] - 31s 367ms/step - loss: 0.1309 - accuracy: 0.9528 - val_loss: 1.4256 - val_accuracy: 0.6900\n",
            "Epoch 37/50\n",
            "80/80 [==============================] - 29s 347ms/step - loss: 0.1091 - accuracy: 0.9583 - val_loss: 0.7895 - val_accuracy: 0.7900\n",
            "Epoch 38/50\n",
            "80/80 [==============================] - 31s 360ms/step - loss: 0.0919 - accuracy: 0.9669 - val_loss: 0.9075 - val_accuracy: 0.7300\n",
            "Epoch 39/50\n",
            "80/80 [==============================] - 29s 343ms/step - loss: 0.0951 - accuracy: 0.9630 - val_loss: 0.9106 - val_accuracy: 0.7100\n",
            "Epoch 40/50\n",
            "80/80 [==============================] - 29s 349ms/step - loss: 0.0945 - accuracy: 0.9650 - val_loss: 0.8475 - val_accuracy: 0.7700\n",
            "Epoch 41/50\n",
            "80/80 [==============================] - 29s 344ms/step - loss: 0.0817 - accuracy: 0.9697 - val_loss: 1.0917 - val_accuracy: 0.7500\n",
            "Epoch 42/50\n",
            "80/80 [==============================] - 30s 356ms/step - loss: 0.0675 - accuracy: 0.9780 - val_loss: 0.9034 - val_accuracy: 0.7200\n",
            "Epoch 43/50\n",
            "80/80 [==============================] - 29s 343ms/step - loss: 0.0674 - accuracy: 0.9720 - val_loss: 0.9774 - val_accuracy: 0.7500\n",
            "Epoch 44/50\n",
            "80/80 [==============================] - 30s 361ms/step - loss: 0.1010 - accuracy: 0.9638 - val_loss: 1.1688 - val_accuracy: 0.6900\n",
            "Epoch 45/50\n",
            "80/80 [==============================] - 29s 343ms/step - loss: 0.1076 - accuracy: 0.9650 - val_loss: 1.1310 - val_accuracy: 0.7100\n",
            "Epoch 46/50\n",
            "80/80 [==============================] - 29s 342ms/step - loss: 0.1015 - accuracy: 0.9642 - val_loss: 1.2839 - val_accuracy: 0.7100\n",
            "Epoch 47/50\n",
            "80/80 [==============================] - 29s 345ms/step - loss: 0.0947 - accuracy: 0.9642 - val_loss: 1.2083 - val_accuracy: 0.6700\n",
            "Epoch 48/50\n",
            "80/80 [==============================] - 29s 346ms/step - loss: 0.1078 - accuracy: 0.9598 - val_loss: 1.7497 - val_accuracy: 0.6400\n",
            "Epoch 49/50\n",
            "80/80 [==============================] - 29s 343ms/step - loss: 0.0884 - accuracy: 0.9693 - val_loss: 1.1726 - val_accuracy: 0.7300\n",
            "Epoch 50/50\n",
            "80/80 [==============================] - 29s 339ms/step - loss: 0.0710 - accuracy: 0.9736 - val_loss: 1.3087 - val_accuracy: 0.7500\n"
          ]
        }
      ],
      "source": [
        "history = classifier.fit(train_generator,\n",
        "                              epochs=50,\n",
        "                              validation_data=validation_generator,\n",
        "                              workers=4\n",
        "                             )"
      ]
    },
    {
      "cell_type": "markdown",
      "metadata": {
        "id": "W2S0HkKeNmuD"
      },
      "source": [
        "Plot Accuracy:"
      ]
    },
    {
      "cell_type": "code",
      "execution_count": 14,
      "metadata": {
        "colab": {
          "base_uri": "https://localhost:8080/",
          "height": 312
        },
        "id": "gPF9U4JINpNX",
        "outputId": "510d339e-450c-4e7c-ca96-c9548ebc3b41"
      },
      "outputs": [
        {
          "name": "stdout",
          "output_type": "stream",
          "text": [
            "dict_keys(['loss', 'accuracy', 'val_loss', 'val_accuracy'])\n"
          ]
        },
        {
          "data": {
            "image/png": "[encoded data removed]",
            "text/plain": [
              "<Figure size 432x288 with 1 Axes>"
            ]
          },
          "metadata": {
            "needs_background": "light"
          },
          "output_type": "display_data"
        }
      ],
      "source": [
        "# Print out the metrics recorded during training (saved in the history)\n",
        "print(history.history.keys())\n",
        "\n",
        "# summarize history for accuracy\n",
        "plt.plot(history.history['accuracy'])\n",
        "plt.plot(history.history['val_accuracy'])\n",
        "plt.title('model accuracy')\n",
        "plt.ylabel('accuracy')\n",
        "plt.xlabel('epoch')\n",
        "plt.legend(['train', 'validation'], loc='upper left')\n",
        "plt.show()"
      ]
    },
    {
      "cell_type": "markdown",
      "metadata": {
        "id": "3pg1zeyrNqOQ"
      },
      "source": [
        "Plot Loss"
      ]
    },
    {
      "cell_type": "code",
      "execution_count": 15,
      "metadata": {
        "colab": {
          "base_uri": "https://localhost:8080/",
          "height": 295
        },
        "id": "4px8usTZNsnq",
        "outputId": "978d9231-5e1c-438f-a041-c45d68077489"
      },
      "outputs": [
        {
          "data": {
            "image/png": "[encoded data removed]",
            "text/plain": [
              "<Figure size 432x288 with 1 Axes>"
            ]
          },
          "metadata": {
            "needs_background": "light"
          },
          "output_type": "display_data"
        }
      ],
      "source": [
        "plt.plot(history.history['loss'])\n",
        "plt.plot(history.history['val_loss'])\n",
        "plt.title('model loss')\n",
        "plt.ylabel('loss')\n",
        "plt.xlabel('epoch')\n",
        "plt.legend(['train', 'Validation'], loc='upper left')\n",
        "plt.show()"
      ]
    },
    {
      "cell_type": "markdown",
      "metadata": {
        "id": "FKBQ0e6kLGZa"
      },
      "source": [
        "Save the Model to an H5 File"
      ]
    },
    {
      "cell_type": "code",
      "execution_count": 16,
      "metadata": {
        "colab": {
          "base_uri": "https://localhost:8080/",
          "height": 17
        },
        "id": "Y0xg-50yLI44",
        "outputId": "b2196c91-6ecb-4790-ef84-580eb37411b8"
      },
      "outputs": [
        {
          "data": {
            "application/javascript": "\n    async function download(id, filename, size) {\n      if (!google.colab.kernel.accessAllowed) {\n        return;\n      }\n      const div = document.createElement('div');\n      const label = document.createElement('label');\n      label.textContent = `Downloading \"${filename}\": `;\n      div.appendChild(label);\n      const progress = document.createElement('progress');\n      progress.max = size;\n      div.appendChild(progress);\n      document.body.appendChild(div);\n\n      const buffers = [];\n      let downloaded = 0;\n\n      const channel = await google.colab.kernel.comms.open(id);\n      // Send a message to notify the kernel that we're ready.\n      channel.send({})\n\n      for await (const message of channel.messages) {\n        // Send a message to notify the kernel that we're ready.\n        channel.send({})\n        if (message.buffers) {\n          for (const buffer of message.buffers) {\n            buffers.push(buffer);\n            downloaded += buffer.byteLength;\n            progress.value = downloaded;\n          }\n        }\n      }\n      const blob = new Blob(buffers, {type: 'application/binary'});\n      const a = document.createElement('a');\n      a.href = window.URL.createObjectURL(blob);\n      a.download = filename;\n      div.appendChild(a);\n      a.click();\n      div.remove();\n    }\n  ",
            "text/plain": [
              "<IPython.core.display.Javascript object>"
            ]
          },
          "metadata": {},
          "output_type": "display_data"
        },
        {
          "data": {
            "application/javascript": "download(\"download_c2946677-623b-4c96-a40d-a64c830d1cad\", \"Autism_Classification.h5\", 46030592)",
            "text/plain": [
              "<IPython.core.display.Javascript object>"
            ]
          },
          "metadata": {},
          "output_type": "display_data"
        }
      ],
      "source": [
        "classifier.save(\"/content/Autism_Classification.h5\")\n",
        "\n",
        "#Downloading the file:\n",
        "from google.colab import files\n",
        "files.download(\"/content/Autism_Classification.h5\")"
      ]
    },
    {
      "cell_type": "code",
      "execution_count": 17,
      "metadata": {
        "colab": {
          "base_uri": "https://localhost:8080/"
        },
        "id": "zIWxWinMLJ1x",
        "outputId": "bd637a07-a35b-4508-9a57-d3a611131a71"
      },
      "outputs": [
        {
          "name": "stdout",
          "output_type": "stream",
          "text": [
            "Model: \"sequential\"\n",
            "_________________________________________________________________\n",
            " Layer (type)                Output Shape              Param #   \n",
            "=================================================================\n",
            " conv2d (Conv2D)             (None, 222, 222, 32)      896       \n",
            "                                                                 \n",
            " conv2d_1 (Conv2D)           (None, 220, 220, 64)      18496     \n",
            "                                                                 \n",
            " max_pooling2d (MaxPooling2D  (None, 110, 110, 64)     0         \n",
            " )                                                               \n",
            "                                                                 \n",
            " dropout (Dropout)           (None, 110, 110, 64)      0         \n",
            "                                                                 \n",
            " conv2d_2 (Conv2D)           (None, 110, 110, 64)      36928     \n",
            "                                                                 \n",
            " max_pooling2d_1 (MaxPooling  (None, 55, 55, 64)       0         \n",
            " 2D)                                                             \n",
            "                                                                 \n",
            " dropout_1 (Dropout)         (None, 55, 55, 64)        0         \n",
            "                                                                 \n",
            " batch_normalization (BatchN  (None, 55, 55, 64)       256       \n",
            " ormalization)                                                   \n",
            "                                                                 \n",
            " zero_padding2d (ZeroPadding  (None, 61, 61, 64)       0         \n",
            " 2D)                                                             \n",
            "                                                                 \n",
            " conv2d_3 (Conv2D)           (None, 26, 26, 128)       991360    \n",
            "                                                                 \n",
            " max_pooling2d_2 (MaxPooling  (None, 13, 13, 128)      0         \n",
            " 2D)                                                             \n",
            "                                                                 \n",
            " dropout_2 (Dropout)         (None, 13, 13, 128)       0         \n",
            "                                                                 \n",
            " batch_normalization_1 (Batc  (None, 13, 13, 128)      512       \n",
            " hNormalization)                                                 \n",
            "                                                                 \n",
            " flatten (Flatten)           (None, 21632)             0         \n",
            "                                                                 \n",
            " dense (Dense)               (None, 128)               2769024   \n",
            "                                                                 \n",
            " dense_1 (Dense)             (None, 64)                8256      \n",
            "                                                                 \n",
            " dense_2 (Dense)             (None, 32)                2080      \n",
            "                                                                 \n",
            " dense_3 (Dense)             (None, 1)                 33        \n",
            "                                                                 \n",
            "=================================================================\n",
            "Total params: 3,827,841\n",
            "Trainable params: 3,827,457\n",
            "Non-trainable params: 384\n",
            "_________________________________________________________________\n"
          ]
        }
      ],
      "source": [
        "# load model\n",
        "autism_Classification = tf.keras.models.load_model('/content/Autism_Classification.h5')\n",
        "# summarize model.\n",
        "autism_Classification.summary()"
      ]
    },
    {
      "cell_type": "markdown",
      "metadata": {
        "id": "HmKJgHDfRitc"
      },
      "source": [
        "Printing the Classes:"
      ]
    },
    {
      "cell_type": "code",
      "execution_count": 18,
      "metadata": {
        "colab": {
          "base_uri": "https://localhost:8080/"
        },
        "id": "pTegxGY0Rh2x",
        "outputId": "40a1bad8-6d6d-4cd1-87c4-9aca57d2c938"
      },
      "outputs": [
        {
          "data": {
            "text/plain": [
              "{'Autistic': 0, 'Non_Autistic': 1}"
            ]
          },
          "execution_count": 18,
          "metadata": {},
          "output_type": "execute_result"
        }
      ],
      "source": [
        "train_generator.class_indices"
      ]
    },
    {
      "cell_type": "markdown",
      "metadata": {
        "id": "HKupg5nBcThL"
      },
      "source": [
        "Prediction:"
      ]
    },
    {
      "cell_type": "code",
      "execution_count": 19,
      "metadata": {
        "colab": {
          "base_uri": "https://localhost:8080/",
          "height": 304
        },
        "id": "SR5J66i8QpQI",
        "outputId": "5bbe7217-6685-45d5-e158-b953bd66bdb8"
      },
      "outputs": [
        {
          "data": {
            "image/png": "[encoded data removed]",
            "text/plain": [
              "<Figure size 432x288 with 1 Axes>"
            ]
          },
          "metadata": {
            "needs_background": "light"
          },
          "output_type": "display_data"
        },
        {
          "name": "stdout",
          "output_type": "stream",
          "text": [
            "1/1 [==============================] - 0s 310ms/step\n",
            "Non Autistic\n"
          ]
        }
      ],
      "source": [
        "training_image = \"/content/AutismDataset/valid/Non_Autistic/01.jpg\"\n",
        "test_image = tf.keras.utils.load_img(training_image, target_size= (224,224))\n",
        "img=mpimg.imread(training_image)\n",
        "imgplot = plt.imshow(img)\n",
        "plt.show()\n",
        "test_image = tf.keras.utils.img_to_array(test_image)\n",
        "test_image = np.expand_dims(test_image, axis = 0)\n",
        "result = autism_Classification.predict(test_image)\n",
        "\n",
        "if result [0][0] == 1:\n",
        "  prediction = 'Non Autistic'\n",
        "else:\n",
        "  prediction = 'Autistic'\n",
        "\n",
        "\n",
        "print(prediction)"
      ]
    },
    {
      "cell_type": "markdown",
      "metadata": {
        "id": "oRqin8dvaauv"
      },
      "source": [
        "Front end Using Streamlit:"
      ]
    },
    {
      "cell_type": "code",
      "execution_count": 20,
      "metadata": {
        "colab": {
          "base_uri": "https://localhost:8080/"
        },
        "id": "SAWPBzFdauIl",
        "outputId": "85bd5323-5bd2-4e1d-d22a-2850b32829de"
      },
      "outputs": [
        {
          "name": "stdout",
          "output_type": "stream",
          "text": [
            "Looking in indexes: https://pypi.org/simple, https://us-python.pkg.dev/colab-wheels/public/simple/\n",
            "Collecting streamlit\n",
            "  Downloading streamlit-1.15.1-py2.py3-none-any.whl (10.3 MB)\n",
            "\u001b[K     |████████████████████████████████| 10.3 MB 27.5 MB/s \n",
            "\u001b[?25hCollecting blinker>=1.0.0\n",
            "  Downloading blinker-1.5-py2.py3-none-any.whl (12 kB)\n",
            "Requirement already satisfied: cachetools>=4.0 in /usr/local/lib/python3.7/dist-packages (from streamlit) (5.2.0)\n",
            "Requirement already satisfied: requests>=2.4 in /usr/local/lib/python3.7/dist-packages (from streamlit) (2.23.0)\n",
            "Collecting semver\n",
            "  Downloading semver-2.13.0-py2.py3-none-any.whl (12 kB)\n",
            "Collecting watchdog\n",
            "  Downloading watchdog-2.1.9-py3-none-manylinux2014_x86_64.whl (78 kB)\n",
            "\u001b[K     |████████████████████████████████| 78 kB 7.6 MB/s \n",
            "\u001b[?25hCollecting pydeck>=0.1.dev5\n",
            "  Downloading pydeck-0.8.0-py2.py3-none-any.whl (4.7 MB)\n",
            "\u001b[K     |████████████████████████████████| 4.7 MB 67.7 MB/s \n",
            "\u001b[?25hRequirement already satisfied: click>=7.0 in /usr/local/lib/python3.7/dist-packages (from streamlit) (7.1.2)\n",
            "Requirement already satisfied: packaging>=14.1 in /usr/local/lib/python3.7/dist-packages (from streamlit) (21.3)\n",
            "Requirement already satisfied: numpy in /usr/local/lib/python3.7/dist-packages (from streamlit) (1.21.6)\n",
            "Requirement already satisfied: tzlocal>=1.1 in /usr/local/lib/python3.7/dist-packages (from streamlit) (1.5.1)\n",
            "Requirement already satisfied: pyarrow>=4.0 in /usr/local/lib/python3.7/dist-packages (from streamlit) (9.0.0)\n",
            "Requirement already satisfied: python-dateutil in /usr/local/lib/python3.7/dist-packages (from streamlit) (2.8.2)\n",
            "Requirement already satisfied: importlib-metadata>=1.4 in /usr/local/lib/python3.7/dist-packages (from streamlit) (4.13.0)\n",
            "Requirement already satisfied: typing-extensions>=3.10.0.0 in /usr/local/lib/python3.7/dist-packages (from streamlit) (4.1.1)\n",
            "Collecting rich>=10.11.0\n",
            "  Downloading rich-12.6.0-py3-none-any.whl (237 kB)\n",
            "\u001b[K     |████████████████████████████████| 237 kB 75.0 MB/s \n",
            "\u001b[?25hRequirement already satisfied: pandas>=0.21.0 in /usr/local/lib/python3.7/dist-packages (from streamlit) (1.3.5)\n",
            "Collecting validators>=0.2\n",
            "  Downloading validators-0.20.0.tar.gz (30 kB)\n",
            "Requirement already satisfied: tornado>=5.0 in /usr/local/lib/python3.7/dist-packages (from streamlit) (6.0.4)\n",
            "Requirement already satisfied: altair>=3.2.0 in /usr/local/lib/python3.7/dist-packages (from streamlit) (4.2.0)\n",
            "Collecting pympler>=0.9\n",
            "  Downloading Pympler-1.0.1-py3-none-any.whl (164 kB)\n",
            "\u001b[K     |████████████████████████████████| 164 kB 62.9 MB/s \n",
            "\u001b[?25hRequirement already satisfied: pillow>=6.2.0 in /usr/local/lib/python3.7/dist-packages (from streamlit) (7.1.2)\n",
            "Requirement already satisfied: toml in /usr/local/lib/python3.7/dist-packages (from streamlit) (0.10.2)\n",
            "Requirement already satisfied: protobuf<4,>=3.12 in /usr/local/lib/python3.7/dist-packages (from streamlit) (3.19.6)\n",
            "Collecting gitpython!=3.1.19\n",
            "  Downloading GitPython-3.1.29-py3-none-any.whl (182 kB)\n",
            "\u001b[K     |████████████████████████████████| 182 kB 68.6 MB/s \n",
            "\u001b[?25hRequirement already satisfied: entrypoints in /usr/local/lib/python3.7/dist-packages (from altair>=3.2.0->streamlit) (0.4)\n",
            "Requirement already satisfied: jinja2 in /usr/local/lib/python3.7/dist-packages (from altair>=3.2.0->streamlit) (2.11.3)\n",
            "Requirement already satisfied: toolz in /usr/local/lib/python3.7/dist-packages (from altair>=3.2.0->streamlit) (0.12.0)\n",
            "Requirement already satisfied: jsonschema>=3.0 in /usr/local/lib/python3.7/dist-packages (from altair>=3.2.0->streamlit) (4.3.3)\n",
            "Collecting gitdb<5,>=4.0.1\n",
            "  Downloading gitdb-4.0.10-py3-none-any.whl (62 kB)\n",
            "\u001b[K     |████████████████████████████████| 62 kB 1.7 MB/s \n",
            "\u001b[?25hCollecting smmap<6,>=3.0.1\n",
            "  Downloading smmap-5.0.0-py3-none-any.whl (24 kB)\n",
            "Requirement already satisfied: zipp>=0.5 in /usr/local/lib/python3.7/dist-packages (from importlib-metadata>=1.4->streamlit) (3.10.0)\n",
            "Requirement already satisfied: importlib-resources>=1.4.0 in /usr/local/lib/python3.7/dist-packages (from jsonschema>=3.0->altair>=3.2.0->streamlit) (5.10.0)\n",
            "Requirement already satisfied: attrs>=17.4.0 in /usr/local/lib/python3.7/dist-packages (from jsonschema>=3.0->altair>=3.2.0->streamlit) (22.1.0)\n",
            "Requirement already satisfied: pyrsistent!=0.17.0,!=0.17.1,!=0.17.2,>=0.14.0 in /usr/local/lib/python3.7/dist-packages (from jsonschema>=3.0->altair>=3.2.0->streamlit) (0.19.2)\n",
            "Requirement already satisfied: pyparsing!=3.0.5,>=2.0.2 in /usr/local/lib/python3.7/dist-packages (from packaging>=14.1->streamlit) (3.0.9)\n",
            "Requirement already satisfied: pytz>=2017.3 in /usr/local/lib/python3.7/dist-packages (from pandas>=0.21.0->streamlit) (2022.6)\n",
            "Requirement already satisfied: MarkupSafe>=0.23 in /usr/local/lib/python3.7/dist-packages (from jinja2->altair>=3.2.0->streamlit) (2.0.1)\n",
            "Requirement already satisfied: six>=1.5 in /usr/local/lib/python3.7/dist-packages (from python-dateutil->streamlit) (1.15.0)\n",
            "Requirement already satisfied: idna<3,>=2.5 in /usr/local/lib/python3.7/dist-packages (from requests>=2.4->streamlit) (2.10)\n",
            "Requirement already satisfied: urllib3!=1.25.0,!=1.25.1,<1.26,>=1.21.1 in /usr/local/lib/python3.7/dist-packages (from requests>=2.4->streamlit) (1.24.3)\n",
            "Requirement already satisfied: chardet<4,>=3.0.2 in /usr/local/lib/python3.7/dist-packages (from requests>=2.4->streamlit) (3.0.4)\n",
            "Requirement already satisfied: certifi>=2017.4.17 in /usr/local/lib/python3.7/dist-packages (from requests>=2.4->streamlit) (2022.9.24)\n",
            "Requirement already satisfied: pygments<3.0.0,>=2.6.0 in /usr/local/lib/python3.7/dist-packages (from rich>=10.11.0->streamlit) (2.6.1)\n",
            "Collecting commonmark<0.10.0,>=0.9.0\n",
            "  Downloading commonmark-0.9.1-py2.py3-none-any.whl (51 kB)\n",
            "\u001b[K     |████████████████████████████████| 51 kB 7.6 MB/s \n",
            "\u001b[?25hRequirement already satisfied: decorator>=3.4.0 in /usr/local/lib/python3.7/dist-packages (from validators>=0.2->streamlit) (4.4.2)\n",
            "Building wheels for collected packages: validators\n",
            "  Building wheel for validators (setup.py) ... \u001b[?25l\u001b[?25hdone\n",
            "  Created wheel for validators: filename=validators-0.20.0-py3-none-any.whl size=19581 sha256=89f384b6b514a8dcba187672ea8437c1210f1515d98256dc495e3cadac5dd5be\n",
            "  Stored in directory: /root/.cache/pip/wheels/5f/55/ab/36a76989f7f88d9ca7b1f68da6d94252bb6a8d6ad4f18e04e9\n",
            "Successfully built validators\n",
            "Installing collected packages: smmap, gitdb, commonmark, watchdog, validators, semver, rich, pympler, pydeck, gitpython, blinker, streamlit\n",
            "Successfully installed blinker-1.5 commonmark-0.9.1 gitdb-4.0.10 gitpython-3.1.29 pydeck-0.8.0 pympler-1.0.1 rich-12.6.0 semver-2.13.0 smmap-5.0.0 streamlit-1.15.1 validators-0.20.0 watchdog-2.1.9\n",
            "Looking in indexes: https://pypi.org/simple, https://us-python.pkg.dev/colab-wheels/public/simple/\n",
            "Collecting streamlit_bokeh_events\n",
            "  Downloading streamlit_bokeh_events-0.1.2-py3-none-any.whl (2.0 MB)\n",
            "\u001b[K     |████████████████████████████████| 2.0 MB 22.7 MB/s \n",
            "\u001b[?25hRequirement already satisfied: bokeh>=2.0.0 in /usr/local/lib/python3.7/dist-packages (from streamlit_bokeh_events) (2.3.3)\n",
            "Requirement already satisfied: streamlit>=0.63 in /usr/local/lib/python3.7/dist-packages (from streamlit_bokeh_events) (1.15.1)\n",
            "Requirement already satisfied: packaging>=16.8 in /usr/local/lib/python3.7/dist-packages (from bokeh>=2.0.0->streamlit_bokeh_events) (21.3)\n",
            "Requirement already satisfied: tornado>=5.1 in /usr/local/lib/python3.7/dist-packages (from bokeh>=2.0.0->streamlit_bokeh_events) (6.0.4)\n",
            "Requirement already satisfied: Jinja2>=2.9 in /usr/local/lib/python3.7/dist-packages (from bokeh>=2.0.0->streamlit_bokeh_events) (2.11.3)\n",
            "Requirement already satisfied: pillow>=7.1.0 in /usr/local/lib/python3.7/dist-packages (from bokeh>=2.0.0->streamlit_bokeh_events) (7.1.2)\n",
            "Requirement already satisfied: python-dateutil>=2.1 in /usr/local/lib/python3.7/dist-packages (from bokeh>=2.0.0->streamlit_bokeh_events) (2.8.2)\n",
            "Requirement already satisfied: PyYAML>=3.10 in /usr/local/lib/python3.7/dist-packages (from bokeh>=2.0.0->streamlit_bokeh_events) (6.0)\n",
            "Requirement already satisfied: numpy>=1.11.3 in /usr/local/lib/python3.7/dist-packages (from bokeh>=2.0.0->streamlit_bokeh_events) (1.21.6)\n",
            "Requirement already satisfied: typing-extensions>=3.7.4 in /usr/local/lib/python3.7/dist-packages (from bokeh>=2.0.0->streamlit_bokeh_events) (4.1.1)\n",
            "Requirement already satisfied: MarkupSafe>=0.23 in /usr/local/lib/python3.7/dist-packages (from Jinja2>=2.9->bokeh>=2.0.0->streamlit_bokeh_events) (2.0.1)\n",
            "Requirement already satisfied: pyparsing!=3.0.5,>=2.0.2 in /usr/local/lib/python3.7/dist-packages (from packaging>=16.8->bokeh>=2.0.0->streamlit_bokeh_events) (3.0.9)\n",
            "Requirement already satisfied: six>=1.5 in /usr/local/lib/python3.7/dist-packages (from python-dateutil>=2.1->bokeh>=2.0.0->streamlit_bokeh_events) (1.15.0)\n",
            "Requirement already satisfied: gitpython!=3.1.19 in /usr/local/lib/python3.7/dist-packages (from streamlit>=0.63->streamlit_bokeh_events) (3.1.29)\n",
            "Requirement already satisfied: pandas>=0.21.0 in /usr/local/lib/python3.7/dist-packages (from streamlit>=0.63->streamlit_bokeh_events) (1.3.5)\n",
            "Requirement already satisfied: altair>=3.2.0 in /usr/local/lib/python3.7/dist-packages (from streamlit>=0.63->streamlit_bokeh_events) (4.2.0)\n",
            "Requirement already satisfied: toml in /usr/local/lib/python3.7/dist-packages (from streamlit>=0.63->streamlit_bokeh_events) (0.10.2)\n",
            "Requirement already satisfied: pyarrow>=4.0 in /usr/local/lib/python3.7/dist-packages (from streamlit>=0.63->streamlit_bokeh_events) (9.0.0)\n",
            "Requirement already satisfied: validators>=0.2 in /usr/local/lib/python3.7/dist-packages (from streamlit>=0.63->streamlit_bokeh_events) (0.20.0)\n",
            "Requirement already satisfied: rich>=10.11.0 in /usr/local/lib/python3.7/dist-packages (from streamlit>=0.63->streamlit_bokeh_events) (12.6.0)\n",
            "Requirement already satisfied: protobuf<4,>=3.12 in /usr/local/lib/python3.7/dist-packages (from streamlit>=0.63->streamlit_bokeh_events) (3.19.6)\n",
            "Requirement already satisfied: pydeck>=0.1.dev5 in /usr/local/lib/python3.7/dist-packages (from streamlit>=0.63->streamlit_bokeh_events) (0.8.0)\n",
            "Requirement already satisfied: tzlocal>=1.1 in /usr/local/lib/python3.7/dist-packages (from streamlit>=0.63->streamlit_bokeh_events) (1.5.1)\n",
            "Requirement already satisfied: requests>=2.4 in /usr/local/lib/python3.7/dist-packages (from streamlit>=0.63->streamlit_bokeh_events) (2.23.0)\n",
            "Requirement already satisfied: click>=7.0 in /usr/local/lib/python3.7/dist-packages (from streamlit>=0.63->streamlit_bokeh_events) (7.1.2)\n",
            "Requirement already satisfied: cachetools>=4.0 in /usr/local/lib/python3.7/dist-packages (from streamlit>=0.63->streamlit_bokeh_events) (5.2.0)\n",
            "Requirement already satisfied: pympler>=0.9 in /usr/local/lib/python3.7/dist-packages (from streamlit>=0.63->streamlit_bokeh_events) (1.0.1)\n",
            "Requirement already satisfied: importlib-metadata>=1.4 in /usr/local/lib/python3.7/dist-packages (from streamlit>=0.63->streamlit_bokeh_events) (4.13.0)\n",
            "Requirement already satisfied: watchdog in /usr/local/lib/python3.7/dist-packages (from streamlit>=0.63->streamlit_bokeh_events) (2.1.9)\n",
            "Requirement already satisfied: blinker>=1.0.0 in /usr/local/lib/python3.7/dist-packages (from streamlit>=0.63->streamlit_bokeh_events) (1.5)\n",
            "Requirement already satisfied: semver in /usr/local/lib/python3.7/dist-packages (from streamlit>=0.63->streamlit_bokeh_events) (2.13.0)\n",
            "Requirement already satisfied: toolz in /usr/local/lib/python3.7/dist-packages (from altair>=3.2.0->streamlit>=0.63->streamlit_bokeh_events) (0.12.0)\n",
            "Requirement already satisfied: jsonschema>=3.0 in /usr/local/lib/python3.7/dist-packages (from altair>=3.2.0->streamlit>=0.63->streamlit_bokeh_events) (4.3.3)\n",
            "Requirement already satisfied: entrypoints in /usr/local/lib/python3.7/dist-packages (from altair>=3.2.0->streamlit>=0.63->streamlit_bokeh_events) (0.4)\n",
            "Requirement already satisfied: gitdb<5,>=4.0.1 in /usr/local/lib/python3.7/dist-packages (from gitpython!=3.1.19->streamlit>=0.63->streamlit_bokeh_events) (4.0.10)\n",
            "Requirement already satisfied: smmap<6,>=3.0.1 in /usr/local/lib/python3.7/dist-packages (from gitdb<5,>=4.0.1->gitpython!=3.1.19->streamlit>=0.63->streamlit_bokeh_events) (5.0.0)\n",
            "Requirement already satisfied: zipp>=0.5 in /usr/local/lib/python3.7/dist-packages (from importlib-metadata>=1.4->streamlit>=0.63->streamlit_bokeh_events) (3.10.0)\n",
            "Requirement already satisfied: pyrsistent!=0.17.0,!=0.17.1,!=0.17.2,>=0.14.0 in /usr/local/lib/python3.7/dist-packages (from jsonschema>=3.0->altair>=3.2.0->streamlit>=0.63->streamlit_bokeh_events) (0.19.2)\n",
            "Requirement already satisfied: importlib-resources>=1.4.0 in /usr/local/lib/python3.7/dist-packages (from jsonschema>=3.0->altair>=3.2.0->streamlit>=0.63->streamlit_bokeh_events) (5.10.0)\n",
            "Requirement already satisfied: attrs>=17.4.0 in /usr/local/lib/python3.7/dist-packages (from jsonschema>=3.0->altair>=3.2.0->streamlit>=0.63->streamlit_bokeh_events) (22.1.0)\n",
            "Requirement already satisfied: pytz>=2017.3 in /usr/local/lib/python3.7/dist-packages (from pandas>=0.21.0->streamlit>=0.63->streamlit_bokeh_events) (2022.6)\n",
            "Requirement already satisfied: chardet<4,>=3.0.2 in /usr/local/lib/python3.7/dist-packages (from requests>=2.4->streamlit>=0.63->streamlit_bokeh_events) (3.0.4)\n",
            "Requirement already satisfied: idna<3,>=2.5 in /usr/local/lib/python3.7/dist-packages (from requests>=2.4->streamlit>=0.63->streamlit_bokeh_events) (2.10)\n",
            "Requirement already satisfied: urllib3!=1.25.0,!=1.25.1,<1.26,>=1.21.1 in /usr/local/lib/python3.7/dist-packages (from requests>=2.4->streamlit>=0.63->streamlit_bokeh_events) (1.24.3)\n",
            "Requirement already satisfied: certifi>=2017.4.17 in /usr/local/lib/python3.7/dist-packages (from requests>=2.4->streamlit>=0.63->streamlit_bokeh_events) (2022.9.24)\n",
            "Requirement already satisfied: commonmark<0.10.0,>=0.9.0 in /usr/local/lib/python3.7/dist-packages (from rich>=10.11.0->streamlit>=0.63->streamlit_bokeh_events) (0.9.1)\n",
            "Requirement already satisfied: pygments<3.0.0,>=2.6.0 in /usr/local/lib/python3.7/dist-packages (from rich>=10.11.0->streamlit>=0.63->streamlit_bokeh_events) (2.6.1)\n",
            "Requirement already satisfied: decorator>=3.4.0 in /usr/local/lib/python3.7/dist-packages (from validators>=0.2->streamlit>=0.63->streamlit_bokeh_events) (4.4.2)\n",
            "Installing collected packages: streamlit-bokeh-events\n",
            "Successfully installed streamlit-bokeh-events-0.1.2\n"
          ]
        }
      ],
      "source": [
        "!pip install streamlit\n",
        "!pip install streamlit_bokeh_events"
      ]
    },
    {
      "cell_type": "code",
      "execution_count": 21,
      "metadata": {
        "id": "fw25nqLEadEr"
      },
      "outputs": [],
      "source": [
        "import streamlit as st\n",
        "from tensorflow.keras.preprocessing import image\n",
        "from PIL import Image, ImageOps\n",
        "from bokeh.models.widgets import Button\n",
        "from bokeh.models import CustomJS\n"
      ]
    },
    {
      "cell_type": "code",
      "execution_count": 22,
      "metadata": {
        "colab": {
          "base_uri": "https://localhost:8080/"
        },
        "id": "Uc6IrlHKarPC",
        "outputId": "6e4da1d7-4e63-4cc6-ac7f-3adb012e738c"
      },
      "outputs": [
        {
          "name": "stdout",
          "output_type": "stream",
          "text": [
            "Writing app.py\n"
          ]
        }
      ],
      "source": [
        "%%writefile app.py\n",
        "html_temp = \"\"\" \n",
        "AUTISM DETECTION  ⚕️⚕️⚕️\n",
        "\"\"\" \n",
        "st.markdown(html_temp, unsafe_allow_html=True) \n",
        "@st.cache(allow_output_mutation=True)\n",
        "def load_model():\n",
        "  model=tf.keras.models.load_model('Autism_Classification.h5')\n",
        "  return model\n",
        "\n",
        "with st.spinner('Model is being loaded..'):\n",
        "  model=load_model()\n",
        "file = st.file_uploader(\"Please upload any image from the local machine in case of computer or upload camera image in case of mobile.\", type=[\"jpg\", \"png\",\"jpeg\"])\n",
        "import cv2\n",
        "import numpy as np\n",
        "st.set_option('deprecation.showfileUploaderEncoding', False)\n",
        "\n",
        "if file is None:\n",
        "  st.text(\"Please upload an image file within the allotted file size\")\n",
        "else:\n",
        "  img = Image.open(file)\n",
        "  st.image(img, use_column_width=False)\n",
        "  size = (224,224)    \n",
        "  image = ImageOps.fit(img, size, Image.ANTIALIAS)\n",
        "  imag = tf.keras.utils.img_to_array(image)\n",
        "  imaga = np.expand_dims(imag,axis=0)\n",
        "  predictions = model.predict(imaga)\n",
        "  a=predictions[0][0]\n",
        "  if a==0:\n",
        "    st.error('AUTISM.')\n",
        "  elif a==1:\n",
        "    st.success('Non AUTISM.') \n",
        "    "
      ]
    }
  ],
  "metadata": {
    "accelerator": "GPU",
    "colab": {
      "provenance": []
    },
    "gpuClass": "standard",
    "kernelspec": {
      "display_name": "Python 3.10.5 64-bit",
      "language": "python",
      "name": "python3"
    },
    "language_info": {
      "name": "python",
      "version": "3.10.5"
    },
    "vscode": {
      "interpreter": {
        "hash": "a9cff5a362bc38ef45d817ae74b1af54d6a076e3d773891282bce078b815ba34"
      }
    }
  },
  "nbformat": 4,
  "nbformat_minor": 0
}
